{
 "cells": [
  {
   "attachments": {},
   "cell_type": "markdown",
   "metadata": {
    "id": "rlTm8RmOfxMZ"
   },
   "source": [
    "# **Assignment 2**\n",
    "## Contents \n",
    " - I.Introduction\n",
    "\n",
    " - II.Task1\n",
    "\n",
    " - III.Task2\n",
    "\n",
    " - IV.Conclusion\n",
    "\n",
    " \n"
   ]
  },
  {
   "attachments": {},
   "cell_type": "markdown",
   "metadata": {
    "id": "R_CY1iaQfuny"
   },
   "source": [
    "## Introdction"
   ]
  },
  {
   "attachments": {},
   "cell_type": "markdown",
   "metadata": {
    "id": "ZVelFgT4hRB_"
   },
   "source": [
    "Possion problem is a classical PDE problem. Besides calculating the exact solution by mathematical analysis, many people tend to use numerical methods to approximate the exact solution with several iterations. Solving Possion equation with five-point difference format is one of these, which transforms the original problem into a problem of solving a system of linear equations.Then we can use some iterative algorithms like Jacobi, Gauss-Seidel, SOR iteration method, etc to obtain a numerical solution.  \n",
    "\n",
    "In this assignment, we perform some experiments on possion equation with known boundary. In task1, we implement a function discretises(f,g,N) to solve the possion equation, and manage to anylase the convergence speed of maximum relative error with N increasing. In task2, we try to implement Jacobi iteration method on the GPU, explore maximum relative error convergence against iteration times and the size of N. At last, we also try to optimize the memory accesses in GPU by preloading values into shared memory."
   ]
  },
  {
   "attachments": {},
   "cell_type": "markdown",
   "metadata": {
    "id": "xozuaNWpsbBK"
   },
   "source": [
    "# Task 1"
   ]
  },
  {
   "attachments": {},
   "cell_type": "markdown",
   "metadata": {
    "id": "0oiXhzmtsfGp"
   },
   "source": [
    "It is known to us, when we have $N^2$ interior points with the five-point difference format, the PDE problem becomes a linear matrix problem $$Ax=f$$ where $x\\in R^{N^2}$ collects all the interior values $u_{i,j}$ and $u_{i,j}=x_{jN+i}$. The matrix $A$ is a sparse matrix, with only $5N^2-4N$ nonzon zero elements. Hence, we use the CSR format matrix to store elements in matrix A. CSR format is a kind of sparse matrix data structures, which utilise three arraies to represent a sparse matrix: \n",
    "- The data array containing the nonzero entries\n",
    "- The column indices for the nonzero entries\n",
    "- Pointers into the column indices to store which indices belong to which row.\n",
    "\n",
    "With help of CSR format, we can save computer memory and improve computing efficiency, because we only store the information associated to nonzero elements and avoid repetition in the row indices as COO format does in the row indices by pointers into the column indices.\n",
    "\n",
    "The implementation code is shown there.\n"
   ]
  },
  {
   "attachments": {},
   "cell_type": "markdown",
   "metadata": {
    "id": "hLgDlQuh7Sn6"
   },
   "source": [
    "Firstly, we define some necessary functions. By importing $u_{exact}\\left( x,y \\right) =e^{\\left( x-0.5 \\right) ^2+\\left( y-0.5 \\right) ^2}$, we can conclude $g(x,y)=e^{\\left( x-0.5 \\right) ^2+\\left( y-0.5 \\right) ^2}$, when $x,y=0\\ or\\ 1$, which is represented as g(x,y) in code, and $f(x,y)=-4e^{\\left( \\left( x-0.5 \\right) ^2+\\left( y-0.5 \\right) ^2 \\right) *\\left( 1+\\left( x-0.5 \\right) ^2+\\left( y-0.5 \\right) ^2 \\right)}$, which is represented as u(x,y) in code."
   ]
  },
  {
   "cell_type": "code",
   "execution_count": null,
   "metadata": {
    "id": "8uXeDYe0fuq_"
   },
   "outputs": [],
   "source": [
    "#Define necessary functions\n",
    "#g is origin function, which can be used to calculate the function value of boundary points\n",
    "#u is f \n",
    "from math import exp\n",
    "import numpy as np\n",
    "def g(x,y):\n",
    "  return np.exp((x-0.5)**2+(y-0.5)**2)\n",
    "\n",
    "def u(x,y):\n",
    "  return -4*np.exp((x-0.5)**2+(y-0.5)**2)*(1+(x-0.5)**2+(y-0.5)**2)\n",
    "\n",
    "#define the exact value of u(xi,yj) \n",
    "def calculate_u(u_origin,N):\n",
    "  h=1/(N+1)\n",
    "  u_exact=np.empty([N,N],dtype=np.float64)\n",
    "  for j in range(N):\n",
    "    for i in range(N):\n",
    "      u_exact[i,j]=u_origin(i*h+h,j*h+h)\n",
    "  return u_exact\n"
   ]
  },
  {
   "cell_type": "code",
   "execution_count": null,
   "metadata": {
    "id": "trd5XVrL6otl"
   },
   "outputs": [],
   "source": [
    "import numpy as np\n",
    "from scipy.sparse import coo_matrix\n",
    "def discretise(f,g,N):\n",
    "  #we totally have (N+2)^2 discrete points,and N+1 intervals\n",
    "  #we have N^2 interior points\n",
    "  grid_dim=N\n",
    "  h=1/(N+1)#the lenght of interval between 2 discrete points\n",
    "  nelements=(N+2*(N-1))*N+N*(N-1)*2\n",
    "  row_ind=np.empty(nelements,dtype=np.float64)\n",
    "  col_ind=np.empty(nelements,dtype=np.float64)\n",
    "  data=np.empty(nelements,dtype=np.float64)\n",
    "  f_dis=np.empty(N*N,dtype=np.float64)\n",
    "  count=0\n",
    "  for j in range(N):\n",
    "    for i in range(N):\n",
    "      if (i==0) and (j==0):\n",
    "        #Bottom left case\n",
    "        f_dis[j*N+i]=f(i*h+h,j*h+h)+((1/h)**2)*(g(i*h+h,j*h)+g(i*h,j*h+h))\n",
    "        row_ind[count:count+3]=j*N+i\n",
    "        col_ind[count]=j*N+i\n",
    "        col_ind[count+1]=j*N+i+1\n",
    "        col_ind[count+2]=(j+1)*N+i\n",
    "        data[count]=4*(1/h)**2\n",
    "        data[count+1:count+3]=-(1/h)**2\n",
    "        count+=3  \n",
    "\n",
    "      elif (i==N-1) and (j==0):\n",
    "        f_dis[j*N+i]=f(i*h+h,j*h+h)+((1/h)**2)*(g(i*h+h,j*h)+g((i+1)*h+h,j*h+h))\n",
    "        #Bottom right case\n",
    "        row_ind[count:count+3]=j*N+i\n",
    "        col_ind[count]=j*N+i\n",
    "        col_ind[count+1]=j*N+i-1\n",
    "        col_ind[count+2]=(j+1)*N+i\n",
    "        data[count]=4*(1/h)**2\n",
    "        data[count+1:count+3]=-(1/h)**2\n",
    "        count+=3        \n",
    "\n",
    "      elif (i==0) and (j==N-1):\n",
    "        f_dis[j*N+i]=f(i*h+h,j*h+h)+((1/h)**2)*(g(i*h,j*h+h)+g(i*h+h,(j+1)*h+h))\n",
    "        #Upper left corner \n",
    "        row_ind[count:count+3]=j*N+i\n",
    "        col_ind[count]=j*N+i\n",
    "        col_ind[count+1]=j*N+i+1\n",
    "        col_ind[count+2]=(j-1)*N+i\n",
    "        data[count]=4*(1/h)**2\n",
    "        data[count+1:count+3]=-(1/h)**2\n",
    "        count+=3\n",
    "\n",
    "      elif (i==N-1) and (j==N-1):\n",
    "        f_dis[j*N+i]=f(i*h+h,j*h+h)+((1/h)**2)*(g((i+1)*h+h,j*h+h)+g(i*h+h,(j+1)*h+h))\n",
    "        #Upper right corner \n",
    "        row_ind[count:count+3]=j*N+i\n",
    "        col_ind[count]=j*N+i\n",
    "        col_ind[count+1]=j*N+i-1\n",
    "        col_ind[count+2]=(j-1)*N+i\n",
    "        data[count]=4*(1/h)**2\n",
    "        data[count+1:count+3]=-(1/h)**2\n",
    "        count+=3\n",
    "\n",
    "      elif (0<i<N-1)and(j==0):\n",
    "        f_dis[j*N+i]=f(i*h+h,j*h+h)+((1/h)**2)*g(i*h+h,j*h)\n",
    "        #bottom\n",
    "        row_ind[count:count+4]=j*N+i\n",
    "        col_ind[count]=j*N+i\n",
    "        col_ind[count+1]=j*N+i-1\n",
    "        col_ind[count+2]=j*N+i+1\n",
    "        col_ind[count+3]=(j+1)*N+i\n",
    "        data[count]=4*(1/h)**2\n",
    "        data[count+1:count+4]=-(1/h)**2\n",
    "        count+=4\n",
    "\n",
    "      elif (0<i<N-1)and(j==N-1):\n",
    "        f_dis[j*N+i]=f(i*h+h,j*h+h)+((1/h)**2)*g(i*h+h,(j+1)*h+h)\n",
    "        #upper\n",
    "        row_ind[count:count+4]=j*N+i\n",
    "        col_ind[count]=j*N+i\n",
    "        col_ind[count+1]=j*N+i-1\n",
    "        col_ind[count+2]=j*N+i+1\n",
    "        col_ind[count+3]=(j-1)*N+i\n",
    "        data[count]=4*(1/h)**2\n",
    "        data[count+1:count+4]=-(1/h)**2\n",
    "        count+=4\n",
    "\n",
    "      elif (i==0)and(0<j<N-1):\n",
    "        f_dis[j*N+i]=f(i*h+h,j*h+h)+((1/h)**2)*g(i*h,j*h+h)\n",
    "        #left  \n",
    "        row_ind[count:count+4]=j*N+i\n",
    "        col_ind[count]=j*N+i\n",
    "        col_ind[count+1]=j*N+i+1\n",
    "        col_ind[count+2]=(j-1)*N+i\n",
    "        col_ind[count+3]=(j+1)*N+i\n",
    "        data[count]=4*(1/h)**2\n",
    "        data[count+1:count+4]=-(1/h)**2\n",
    "        count+=4\n",
    "\n",
    "      elif (i==N-1)and(0<j<N-1):\n",
    "        f_dis[j*N+i]=f(i*h+h,j*h+h)+((1/h)**2)*g((i+1)*h+h,j*h+h)\n",
    "        #right\n",
    "        row_ind[count:count+4]=j*N+i\n",
    "        col_ind[count]=j*N+i\n",
    "        col_ind[count+1]=j*N+i-1\n",
    "        col_ind[count+2]=(j-1)*N+i\n",
    "        col_ind[count+3]=(j+1)*N+i\n",
    "        data[count]=4*(1/h)**2\n",
    "        data[count+1:count+4]=-(1/h)**2\n",
    "        count+=4\n",
    "\n",
    "      else:\n",
    "        row_ind[count:count+5]=j*N+i\n",
    "        col_ind[count]=j*N+i\n",
    "        col_ind[count+1]=j*N+i+1\n",
    "        col_ind[count+2]=j*N+i-1\n",
    "        col_ind[count+3]=(j+1)*N+i\n",
    "        col_ind[count+4]=(j-1)*N+i\n",
    "        data[count]=4*(1/h)**2# -\n",
    "        data[count+1:count+5]=-(1/h)**2 #=-1/h^2\n",
    "        #h=1/N-1,xi=ih,yj=jh\n",
    "        f_dis[j*N+i]=f(i*h+h,j*h+h)\n",
    "        count+=5\n",
    "\n",
    "  return coo_matrix((data,(row_ind,col_ind)),shape=(N**2,N**2)).tocsr(),f_dis"
   ]
  },
  {
   "attachments": {},
   "cell_type": "markdown",
   "metadata": {
    "id": "lidp4EfNAs2R"
   },
   "source": [
    "We try to use scipy.sparse.linalg.spolve to solve the sparse linear equations system."
   ]
  },
  {
   "cell_type": "code",
   "execution_count": null,
   "metadata": {
    "colab": {
     "base_uri": "https://localhost:8080/",
     "height": 935
    },
    "id": "L08r_tASAln5",
    "outputId": "05ecb4f2-4fdc-46d2-bf93-553ba023e543"
   },
   "outputs": [
    {
     "data": {
      "image/png": "[encoded data removed]",
      "text/plain": [
       "<Figure size 576x576 with 1 Axes>"
      ]
     },
     "metadata": {
      "needs_background": "light"
     },
     "output_type": "display_data"
    },
    {
     "data": {
      "image/png": "[encoded data removed]",
      "text/plain": [
       "<Figure size 576x576 with 1 Axes>"
      ]
     },
     "metadata": {
      "needs_background": "light"
     },
     "output_type": "display_data"
    }
   ],
   "source": [
    "# plot test\n",
    "%matplotlib inline\n",
    "from matplotlib import pyplot as plt\n",
    "from mpl_toolkits.mplot3d import Axes3D\n",
    "from matplotlib import cm\n",
    "from scipy.sparse.linalg import spsolve\n",
    "N=512 #interior points dimension:N*N\n",
    "A,f=discretise(u,g,N)\n",
    "sol=spsolve(A, f)\n",
    "sol_reshape=sol.reshape((N, N))\n",
    "fig=plt.figure(figsize=(8, 8))\n",
    "ax=fig.gca(projection='3d')\n",
    "ticks= np.linspace(0, 1, N)\n",
    "X,Y=np.meshgrid(ticks,ticks)\n",
    "surf=ax.plot_surface(X, Y, sol_reshape, antialiased=False, cmap=cm.coolwarm)\n",
    "plt.show()\n",
    "#----------------------coefficient matrix visualisation----------------------------------#\n",
    "plt.figure(figsize=(8, 8))\n",
    "plt.spy(A[:1000, :1000], markersize=1)\n",
    "plt.show()"
   ]
  },
  {
   "attachments": {},
   "cell_type": "markdown",
   "metadata": {
    "id": "Sz9lVJzXfXCb"
   },
   "source": []
  },
  {
   "attachments": {},
   "cell_type": "markdown",
   "metadata": {
    "id": "Gwpx7lbfCnBs"
   },
   "source": [
    "From upper picture, we plot the approximate solution result of origin possion problem, which is really similar with $u_{exact}$'s graph, and matrix A only has nonzero elements in the location marked by blue strips.\n",
    " "
   ]
  },
  {
   "attachments": {},
   "cell_type": "markdown",
   "metadata": {
    "id": "y15pi3vNDt1G"
   },
   "source": [
    "Now we want to evaluate the convergency of this numerical method. "
   ]
  },
  {
   "cell_type": "code",
   "execution_count": null,
   "metadata": {
    "colab": {
     "base_uri": "https://localhost:8080/",
     "height": 316
    },
    "id": "gfwx3V4-DJEp",
    "outputId": "0b103d9a-01b7-4e5c-ee43-432e4b6b29eb"
   },
   "outputs": [
    {
     "name": "stdout",
     "output_type": "stream",
     "text": [
      "0.49988204730719543\n"
     ]
    },
    {
     "data": {
      "image/png": "[encoded data removed]",
      "text/plain": [
       "<Figure size 432x288 with 1 Axes>"
      ]
     },
     "metadata": {
      "needs_background": "light"
     },
     "output_type": "display_data"
    }
   ],
   "source": [
    "import numpy as np\n",
    "from scipy.sparse.linalg import spsolve\n",
    "import matplotlib.pyplot as plt\n",
    "import math\n",
    "def main():\n",
    "  N_candidate=[100,200,300,400,500]\n",
    "  N_test=np.array(N_candidate,dtype=np.int)\n",
    "  error=np.empty(N_test.shape,dtype=np.float)\n",
    "  for index,N in list(enumerate(N_test)):\n",
    "    #print((index,N))\n",
    "    h=1/(N-1)\n",
    "    A,f=discretise(u,g,N)\n",
    "    sol=spsolve(A, f)\n",
    "    u_numerical=sol.reshape((N, N))\n",
    "    u_exact=calculate_u(g,N)\n",
    "    error[index]=np.linalg.norm(u_numerical - calculate_u(g,N), np.inf) / np.linalg.norm(u_numerical, np.inf)\n",
    "    #print(error[index])\n",
    "  #plt.plot(N_test,error)\n",
    "  plt.loglog(N_test,error)\n",
    "  plt.xlabel('log(Grid dimension of interior points) ')\n",
    "  plt.ylabel('log(Relative error)')\n",
    "  plt.title('Convergence with N')\n",
    "  plt.scatter(N_test,error,s=25,c='r')\n",
    "  #print('Convergence with N',error)\n",
    "  \n",
    "  a=(math.log(N_test[1])-math.log(N_test[-1]))/(math.log(error[-1])-math.log(error[1]))\n",
    "  print(a)\n",
    "if __name__==\"__main__\":\n",
    "  main()  "
   ]
  },
  {
   "attachments": {},
   "cell_type": "markdown",
   "metadata": {
    "id": "X4po-NzKFwW1"
   },
   "source": [
    "The slope of the trend line in the loglog plot is about 0.5, which means \n",
    "$$\\log \\left( relative\\_error \\right) =-\\frac{1}{2}\\log \\left( N \\right) +b$$\n",
    "$$relative\\_error=10^{-\\frac{1}{2}\\log \\left( N \\right) +b}=10^bN^{-\\frac{1}{2}}$$\n",
    "It is shown that the relative_error is convergent with N. The rate of convergence for log(relative_error) against log(N) could be 0.5. "
   ]
  },
  {
   "attachments": {},
   "cell_type": "markdown",
   "metadata": {
    "id": "PXxiPTFTQd8w"
   },
   "source": [
    "# Task 2"
   ]
  },
  {
   "attachments": {},
   "cell_type": "markdown",
   "metadata": {
    "id": "eoxRvpCdQ-m-"
   },
   "source": [
    "In task2, we utilise the Jacobi iteration method to update the value of every iterior points on GPU. GPU has a certain amount of memory called global memory, where every threads can access. Because GPU can only process data on device, so we need allocate two global buffers in the global memory to carry out interation. \n"
   ]
  },
  {
   "attachments": {},
   "cell_type": "markdown",
   "metadata": {
    "id": "BLFPdiQ7WDqO"
   },
   "source": [
    "## 2.1 Iterative solution on GPU"
   ]
  },
  {
   "attachments": {},
   "cell_type": "markdown",
   "metadata": {
    "id": "Cp_0Pfv8Vcwm"
   },
   "source": [
    "We create a kernel function to perform every iterations"
   ]
  },
  {
   "cell_type": "code",
   "execution_count": null,
   "metadata": {
    "id": "i59nBteYVSy3"
   },
   "outputs": [],
   "source": [
    "@cuda.jit\n",
    "def iteration_once(f,N,x_c,x_n):\n",
    "  #x_c stores previous iteration result \n",
    "  #x_n stores iteration result to be calculated \n",
    "  h=1/(N+1)\n",
    "  px,py=cuda.grid(2)#px,py represent threads' global location\n",
    "  if 0<px<N+1 and 0<py<N+1:\n",
    "    x_n[py,px]=0.25*((h**2)*f[py,px]+x_c[py-1,px]+x_c[py+1,px]+x_c[py,px-1]+x_c[py,px+1])"
   ]
  },
  {
   "attachments": {},
   "cell_type": "markdown",
   "metadata": {
    "id": "jc8spswXXguz"
   },
   "source": [
    "We launch multi-threads on GPU and every threads perform some simple computing in parallel, which has this great advantage compared with CPU serial operation."
   ]
  },
  {
   "attachments": {},
   "cell_type": "markdown",
   "metadata": {
    "id": "siHeUH7SZq77"
   },
   "source": [
    "In oder to test easily, we wrote a class which contains several variables and methods.We initialize the dimension of TPB to 32. Because in the GPU, 32 threads form a warp, and in a warp, threads can work in parallel. Therefore, when we allocate threads, we hope that the total number of threads allocated is a multiple of 32 as much as possible, thereby increasing the degree of parallelism   "
   ]
  },
  {
   "cell_type": "code",
   "execution_count": null,
   "metadata": {
    "id": "gTTCCveTf3o7"
   },
   "outputs": [],
   "source": [
    "import numpy as np\n",
    "import numba\n",
    "from numba import cuda\n",
    "import math\n",
    "from time import time\n",
    "#--------------------------------------------for plotting--------------------------------#\n",
    "%matplotlib inline\n",
    "from matplotlib import pyplot as plt\n",
    "from mpl_toolkits.mplot3d import Axes3D\n",
    "from matplotlib import cm\n",
    "\n",
    "@cuda.jit\n",
    "def iteration_once(f,N,x_c,x_n):#for once iteration operation\n",
    "  h=1/(N+1)\n",
    "  px,py=cuda.grid(2)#\n",
    "  if 0<px<N+1 and 0<py<N+1:\n",
    "    x_n[py,px]=0.25*((h**2)*f[py,px]+x_c[py-1,px]+x_c[py+1,px]+x_c[py,px-1]+x_c[py,px+1])\n",
    "  \n",
    "\n",
    "class iterator(object):\n",
    "  def __init__(self,N,blockDimX=32,blockDimY=32):\n",
    "  #Define some global variables in class\n",
    "    self.N=N\n",
    "    self.h=1/(N+1)\n",
    "    self.TPB=(blockDimX,blockDimY)\n",
    "  #Allocate memory for necessary arries in CPU, and initialize them\n",
    "    self.cpu_result=np.zeros((N+2,N+2),dtype=np.float32)\n",
    "    self.current=np.zeros((N+2,N+2),dtype=np.float32)\n",
    "    self.f=np.zeros((N+2,N+2),dtype=np.float32)\n",
    "    \n",
    "    #initialize current and f\n",
    "    for i in range(0,N+2):\n",
    "      for j in range(0,N+2):\n",
    "        if i==0 or i==N+1 or j==0 or j==N+1:\n",
    "          self.current[i,j]=g(i*self.h,j*self.h)\n",
    "        self.f[i,j]=u(i*self.h,j*self.h)\n",
    "    #initialize 'next'\n",
    "    self.next=self.current.copy()\n",
    "  #Grid information\n",
    "    self.BPG=(math.ceil(self.N/self.TPB[0]),math.ceil(self.N/self.TPB[1]))\n",
    "\n",
    "  #Push data into GPU global memory \n",
    "    self.current_device=cuda.to_device(self.current)\n",
    "    self.next_device=cuda.to_device(self.next)\n",
    "    self.f_device=cuda.to_device(self.f)\n",
    "    \n",
    "    #gpu_error_result=cuda.to_device(cpu_error_result)\n",
    "    #gpu_corresponding_u=cuda.to_device(cpu_corresponding_u)\n",
    "\n",
    "  #-----------------------------------------------------------define some necessary methods-----------------------------------------------#\n",
    "  \n",
    "  \n",
    "  #method for launching iterator for int(iter) times\n",
    "  def launch_iterator(self,iter):\n",
    "    for k in range(iter):\n",
    "      iteration_once[self.BPG,self.TPB](self.f_device,self.N,self.current_device,self.next_device)\n",
    "      self.current_device,self.next_device=self.next_device,self.current_device\n",
    "      #cuda.synchronize()\n",
    "  #method for getting iteration result in GPU and then copy the final result to CPU   \n",
    "  def iterative_result(self):\n",
    "    self.current_device.copy_to_host(self.cpu_result) \n",
    "    iterior_points_result=self.cpu_result[1:-1,1:-1]\n",
    "    return iterior_points_result\n",
    "  \n",
    "  def test_convergency(self,iter,interval):#iter=60000,interval=100\n",
    "    benchmark_list=np.array([element for element in range(interval,iter+interval,interval)],dtype=np.float32)\n",
    "    error_array=benchmark_list.copy()\n",
    "    error_result=np.ones((self.N+2,self.N+2),dtype=np.float32)\n",
    "    error_result_device=cuda.to_device(error_result)\n",
    "    \n",
    "    result_gpu=cuda.to_device(error_array)\n",
    "    count=0\n",
    "    for k in range(iter):\n",
    "      iteration_once[self.BPG,self.TPB](self.f_device,self.N,self.current_device,self.next_device)\n",
    "      self.current_device,self.next_device=self.next_device,self.current_device\n",
    "      cuda.synchronize()\n",
    "      if k in benchmark_list:\n",
    "        maximum_relative_change[self.BPG,self.TPB](self.N,self.next_device,self.current_device,error_result_device,result_gpu[count])\n",
    "        count=count+1\n",
    "      result_gpu.copy_to_host(error_array)\n",
    "    return benchmark_list, error_array\n",
    "\n",
    "\n"
   ]
  },
  {
   "attachments": {},
   "cell_type": "markdown",
   "metadata": {
    "id": "hXjaYciCPXr5"
   },
   "source": [
    "## 2.2 Check the convergence based on $u^k$ and $u^{k+1}$"
   ]
  },
  {
   "attachments": {},
   "cell_type": "markdown",
   "metadata": {
    "id": "eraVwqXuP86d"
   },
   "source": [
    "We write a kernel function to calculte maximum relative error between  $u^k$ and $u^{k+1}$"
   ]
  },
  {
   "cell_type": "code",
   "execution_count": null,
   "metadata": {
    "id": "ndc0HeznP8N9"
   },
   "outputs": [],
   "source": [
    "import numpy as np\n",
    "import numba\n",
    "from numba import cuda\n",
    "@cuda.jit\n",
    "def maximum_relative_change(N,x_c,x_n,error_result,result):\n",
    "  px,py=cuda.grid(2)#\n",
    "  if 0<px<N+1 and 0<py<N+1:\n",
    "    error_result[py,px]=abs(x_n[py,px]-x_c[py,px])/abs(x_c[py,px])\n",
    "  cuda.syncthreads()\n",
    "  if px==0 and py==0:\n",
    "    result=max(error_result[1:-1,1:-1])\n",
    "  "
   ]
  },
  {
   "attachments": {},
   "cell_type": "markdown",
   "metadata": {
    "id": "iwkjvII4PnhE"
   },
   "source": [
    "We want to test it when iteration time is 5000,10000,15000,20000,25000,30000,35000,40000"
   ]
  },
  {
   "cell_type": "code",
   "execution_count": null,
   "metadata": {
    "colab": {
     "base_uri": "https://localhost:8080/",
     "height": 297
    },
    "id": "6n3Tm7v9OL0-",
    "outputId": "d8a1c046-0d6d-4042-8029-0186782cc637"
   },
   "outputs": [
    {
     "data": {
      "text/plain": [
       "Text(0, 0.5, 'maximum relative error')"
      ]
     },
     "execution_count": 92,
     "metadata": {},
     "output_type": "execute_result"
    },
    {
     "data": {
      "image/png": "[encoded data removed]",
      "text/plain": [
       "<Figure size 432x288 with 1 Axes>"
      ]
     },
     "metadata": {
      "needs_background": "light"
     },
     "output_type": "display_data"
    }
   ],
   "source": [
    "import numpy as np\n",
    "import matplotlib.pyplot as plt\n",
    "k_candidate=[5000,10000,15000,20000,25000,30000,35000,40000]\n",
    "lines5,=plt.plot(k_candidate,error_array,\"x-\",label='N=300')\n",
    "plt.legend(handles=[lines5],labels=['N=300'])\n",
    "plt.xlabel('iteration times')\n",
    "plt.ylabel('maximum relative error')\n"
   ]
  },
  {
   "attachments": {},
   "cell_type": "markdown",
   "metadata": {
    "id": "YcP-EPqsQvSZ"
   },
   "source": [
    "The plot shows that with iteration growing up, the gap between the result of this time and last time is smaller, which hints that Jacobi iterative method is convergent。"
   ]
  },
  {
   "attachments": {},
   "cell_type": "markdown",
   "metadata": {
    "id": "BbAVQQ8IyRj2"
   },
   "source": [
    "## 2.3 The interative results' convergence against the exact solution as N increases"
   ]
  },
  {
   "attachments": {},
   "cell_type": "markdown",
   "metadata": {
    "id": "DKIF5LlSzA9I"
   },
   "source": [
    "We define some functions to calculte the maximum relative change between every interative result and u_exact. "
   ]
  },
  {
   "cell_type": "code",
   "execution_count": null,
   "metadata": {
    "id": "sbxi3xutmnGh"
   },
   "outputs": [],
   "source": [
    "def calculate_relative_error(A,N):\n",
    "  return np.linalg.norm(A - calculate_u(g,N), np.inf) / np.linalg.norm(calculate_u(g,N), np.inf)\n",
    "\n",
    "def converge_with_k(N):\n",
    "  converge_test=[0,0,0,0,0,0,0,0]\n",
    "  k_candidate=[5000,10000,15000,20000,25000,30000,35000,40000]\n",
    "  testSolve=iterator(N)#solve a possion problem with 200*200 interior point\n",
    "  for i in range(len(k_candidate)):\n",
    "    testSolve.launch_iterator(k_candidate[i])\n",
    "    result=testSolve.iterative_result()\n",
    "    converge_test[i]=calculate_relative_error(result,N)\n",
    "  return converge_test"
   ]
  },
  {
   "attachments": {},
   "cell_type": "markdown",
   "metadata": {
    "id": "VCOGVptAvzkl"
   },
   "source": [
    "We compared the iteration results of N = 200, 400, 600, 800 respectively."
   ]
  },
  {
   "cell_type": "code",
   "execution_count": null,
   "metadata": {
    "colab": {
     "base_uri": "https://localhost:8080/",
     "height": 313
    },
    "id": "nZkyrg7btRNA",
    "outputId": "e26864c9-c940-4b5a-b2ed-d45eebffa51e"
   },
   "outputs": [
    {
     "data": {
      "text/plain": [
       "Text(0.5, 1.0, 'comparision among difference N')"
      ]
     },
     "execution_count": 41,
     "metadata": {},
     "output_type": "execute_result"
    },
    {
     "data": {
      "image/png": "[encoded data removed]",
      "text/plain": [
       "<Figure size 432x288 with 1 Axes>"
      ]
     },
     "metadata": {
      "needs_background": "light"
     },
     "output_type": "display_data"
    }
   ],
   "source": [
    "import numpy as np\n",
    "import matplotlib.pyplot as plt\n",
    "l1=converge_with_k(200)\n",
    "l2=converge_with_k(400)\n",
    "l3=converge_with_k(600)\n",
    "l4=converge_with_k(800)\n",
    "k_candidate=[5000,10000,15000,20000,25000,30000,35000,40000]\n",
    "lines1,=plt.plot(k_candidate,l1,\"x-\",label='N=200')\n",
    "lines2,=plt.plot(k_candidate,l2,\"x-\",label='N=400')\n",
    "lines3,=plt.plot(k_candidate,l3,\"x-\",label='N=600')\n",
    "lines4,=plt.plot(k_candidate,l4,\"x-\",label='N=800')\n",
    "plt.legend(handles=[lines1,lines2,lines3,lines4],labels=['N=200','N=400','N=600','N=800'])\n",
    "plt.xlabel('iteration times')\n",
    "plt.ylabel('maximum relative error')\n",
    "plt.title('comparision among difference N')"
   ]
  },
  {
   "attachments": {},
   "cell_type": "markdown",
   "metadata": {
    "id": "iUrmp41PwXqh"
   },
   "source": [
    "We found that for any N, the error decreases as the number of iterations increases. However, when the number of iterations is constant, the larger N is, the greater the error. This shows that the higher the density of meshing, the slower the convergence speed, but the value of its final convergence should be more accurate."
   ]
  },
  {
   "attachments": {},
   "cell_type": "markdown",
   "metadata": {
    "id": "B0eRYzpzzu9x"
   },
   "source": [
    "## 2.4 Optimise memory access"
   ]
  },
  {
   "attachments": {},
   "cell_type": "markdown",
   "metadata": {
    "id": "35Y8DJTC1UmM"
   },
   "source": [
    "Previously, although we have successfully solved the numerical solution of u, when we calculate u(i, j), we have to read data repeatedly from global buffer, which slows down our program. In the GPU architecture, there is a certain amount of shared memory in each block, which can store a small amount of data, but can speed up data reading, further improving the performance of parallel programs.Now,we want to preload data into shared memory to optimise memory access."
   ]
  },
  {
   "attachments": {},
   "cell_type": "markdown",
   "metadata": {
    "id": "3jULPA14RSoB"
   },
   "source": [
    "Define the kernel function that uses the shared memory"
   ]
  },
  {
   "cell_type": "code",
   "execution_count": null,
   "metadata": {
    "id": "no-4ns9L1SzG"
   },
   "outputs": [],
   "source": [
    "@cuda.jit\n",
    "def with_shared_memory(N,f,x_c,x_n):\n",
    "  h=1/(N+1)\n",
    "  blocksize=32\n",
    "  local=cuda.shared.array((34,34),numba.float32)\n",
    "  tx=cuda.threadIdx.x\n",
    "  ty=cuda.threadIdx.y\n",
    "  px,py=cuda.grid(2)\n",
    "  if px>x_n.shape[0]-2 or px>x_n.shape[0]-2:\n",
    "    return\n",
    "  local[tx+1,ty+1]=x_c[px+1,py+1]\n",
    "\n",
    "  #select ty=1,2,3,4 to store data from four boundries\n",
    "  if ty==1:\n",
    "    local[tx+1,0]=x_c[px+1,py]\n",
    "  elif ty==2:\n",
    "    local[tx+1,blocksize+1]=x_c[px+1,py+blocksize]\n",
    "  elif ty==3:\n",
    "    local[0,tx+1]=x_c[px-tx,py-1+tx]\n",
    "  elif ty==4:\n",
    "    local[blocksize+1,tx+1]=x_c[px-tx+blocksize+1,py-2+tx] \n",
    "  cuda.syncthreads()\n",
    "  x_n[tx+1,ty+1]=0.25*((h**2)*f[px,py]+local[tx,ty+1]+local[tx+2,ty+1]+local[tx+1,ty]+local[tx+1,ty+2])\n",
    "  cuda.syncthreads()   \n",
    "\n",
    "\n"
   ]
  },
  {
   "cell_type": "code",
   "execution_count": null,
   "metadata": {
    "id": "gycjZzGS5JNz"
   },
   "outputs": [],
   "source": [
    "class shared_memory(iterator):  \n",
    "  def launch_iterator(self,iter):\n",
    "    for k in range(iter):\n",
    "      with_shared_memory[self.BPG,self.TPB](self.N,self.f,self.current,self.next)\n",
    "      (self.current,self.next)=(self.next,self.current)\n",
    "  def timer_for_shared(self):\n",
    "    timer_test_shared=[0,0,0,0,0,0,0,0]\n",
    "    k_candidate=[5000,10000,15000,20000,25000,30000,35000,40000]\n",
    "    test_shared=shared_memory(N)#solve a possion problem with 200*200 interior point\n",
    "    for i in range(len(k_candidate)):\n",
    "      test_shared.launch_iterator(k_candidate[i])\n",
    "      timeit_shared=%timeit -n1 -r3 -o test_shared.launch_iterator(k_candidate[i])\n",
    "      timer_test_shared[i]=timeit_shared.best\n",
    "    return timer_test_shared   "
   ]
  },
  {
   "attachments": {},
   "cell_type": "markdown",
   "metadata": {
    "id": "aZyrn1J6TAmA"
   },
   "source": [
    "We fix iteration times with 1000 times and bechmark for shared memory method and origin method."
   ]
  },
  {
   "attachments": {},
   "cell_type": "markdown",
   "metadata": {
    "id": "W0gZOmBuRVC9"
   },
   "source": [
    "Benchmark for shared memory approach"
   ]
  },
  {
   "cell_type": "code",
   "execution_count": null,
   "metadata": {
    "colab": {
     "base_uri": "https://localhost:8080/"
    },
    "id": "f0d6IcOJ7vqM",
    "outputId": "69068fb5-f8c7-41ef-bc65-6ea241c728e0"
   },
   "outputs": [
    {
     "name": "stdout",
     "output_type": "stream",
     "text": [
      "1 loop, best of 5: 1.69 s per loop\n"
     ]
    },
    {
     "data": {
      "text/plain": [
       "<TimeitResult : 1 loop, best of 5: 1.69 s per loop>"
      ]
     },
     "execution_count": 94,
     "metadata": {},
     "output_type": "execute_result"
    }
   ],
   "source": [
    "#benchmark time consuming with shared memory \n",
    "\n",
    "\n",
    "test2=iterator(200)\n",
    "test2.launch_iterator(1000)\n",
    "%timeit -o test.launch_iterator(1000)"
   ]
  },
  {
   "attachments": {},
   "cell_type": "markdown",
   "metadata": {
    "id": "t8ryMxgSRbEQ"
   },
   "source": [
    "Benchmark for global memory approach"
   ]
  },
  {
   "cell_type": "code",
   "execution_count": null,
   "metadata": {
    "colab": {
     "base_uri": "https://localhost:8080/"
    },
    "id": "-sj6xtBl8GJe",
    "outputId": "8c581b9f-b54c-481a-f255-402bea00448e"
   },
   "outputs": [
    {
     "name": "stdout",
     "output_type": "stream",
     "text": [
      "1 loop, best of 5: 1.65 s per loop\n"
     ]
    },
    {
     "data": {
      "text/plain": [
       "<TimeitResult : 1 loop, best of 5: 1.65 s per loop>"
      ]
     },
     "execution_count": 95,
     "metadata": {},
     "output_type": "execute_result"
    }
   ],
   "source": [
    "test2=iterator(200)\n",
    "test2.launch_iterator(1000)\n",
    "%timeit -o test.launch_iterator(1000)"
   ]
  },
  {
   "attachments": {},
   "cell_type": "markdown",
   "metadata": {
    "id": "LC0WtqiYMISC"
   },
   "source": [
    "We tested N=200 with 1000 iterations and found that the use of shared memory resulted in a slight improvement in computation speed."
   ]
  },
  {
   "attachments": {},
   "cell_type": "markdown",
   "metadata": {
    "id": "eiu5n59BGBJM"
   },
   "source": [
    "# Conclusion\n",
    "In real life, there are very few PDEs that can find analytical solutions, so the use of numerical method approximation is in engineering, research field has been widely used. In order to solve the possion equation on the square of units, this paper first explores the relationship between error convergence and grid density, and deduces the relationship between error convergence speed. Secondly, the convergence relationship between grid density N and iteration k is explored by the GPU-accelerated Jacobi iteration method, and we find that the convergence rate is slower with N increases. This may be related to the time-consuming data transfer due to increased computation, while this experiment does not explore the arrangement of block or grid, perhaps when N increases to a certain extent, the optimization of block or grid arrangement can further improve operational efficiency.\n",
    "At last, we benchmark the shared memory approach and global memory approach(because GPU resources on Colab get to upper limit, I only bencumark one case with N=200,iteration times=1000), we find with shared memory, the computing speed has been accelerated, which means that data in shared memory within a block can be accessed by threads there more quickly.  "
   ]
  }
 ],
 "metadata": {
  "accelerator": "GPU",
  "colab": {
   "collapsed_sections": [],
   "name": "possion2.ipynb",
   "provenance": []
  },
  "kernelspec": {
   "display_name": "Python 3",
   "language": "python",
   "name": "python3"
  },
  "language_info": {
   "codemirror_mode": {
    "name": "ipython",
    "version": 3
   },
   "file_extension": ".py",
   "mimetype": "text/x-python",
   "name": "python",
   "nbconvert_exporter": "python",
   "pygments_lexer": "ipython3",
   "version": "3.6.13"
  }
 },
 "nbformat": 4,
 "nbformat_minor": 1
}
